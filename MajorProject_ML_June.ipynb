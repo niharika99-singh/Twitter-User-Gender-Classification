{
 "cells": [
  {
   "cell_type": "code",
   "execution_count": 203,
   "metadata": {},
   "outputs": [],
   "source": [
    "import pandas as pd\n",
    "import numpy as np\n",
    "\n",
    "import matplotlib.pyplot as plt\n",
    "import seaborn as sns\n",
    "\n",
    "from sklearn.model_selection import train_test_split\n",
    "from sklearn.pipeline import Pipeline\n",
    "from sklearn.feature_extraction.text import TfidfVectorizer\n",
    "from sklearn.metrics import accuracy_score, confusion_matrix, classification_report\n",
    "\n",
    "%matplotlib inline"
   ]
  },
  {
   "cell_type": "code",
   "execution_count": 204,
   "metadata": {},
   "outputs": [],
   "source": [
    "df=pd.read_csv('Information.csv',engine=\"python\")"
   ]
  },
  {
   "cell_type": "code",
   "execution_count": 205,
   "metadata": {},
   "outputs": [
    {
     "data": {
      "text/html": [
       "<div>\n",
       "<style scoped>\n",
       "    .dataframe tbody tr th:only-of-type {\n",
       "        vertical-align: middle;\n",
       "    }\n",
       "\n",
       "    .dataframe tbody tr th {\n",
       "        vertical-align: top;\n",
       "    }\n",
       "\n",
       "    .dataframe thead th {\n",
       "        text-align: right;\n",
       "    }\n",
       "</style>\n",
       "<table border=\"1\" class=\"dataframe\">\n",
       "  <thead>\n",
       "    <tr style=\"text-align: right;\">\n",
       "      <th></th>\n",
       "      <th>_unit_id</th>\n",
       "      <th>_golden</th>\n",
       "      <th>_unit_state</th>\n",
       "      <th>_trusted_judgments</th>\n",
       "      <th>_last_judgment_at</th>\n",
       "      <th>gender</th>\n",
       "      <th>gender:confidence</th>\n",
       "      <th>profile_yn</th>\n",
       "      <th>profile_yn:confidence</th>\n",
       "      <th>created</th>\n",
       "      <th>...</th>\n",
       "      <th>profileimage</th>\n",
       "      <th>retweet_count</th>\n",
       "      <th>sidebar_color</th>\n",
       "      <th>text</th>\n",
       "      <th>tweet_coord</th>\n",
       "      <th>tweet_count</th>\n",
       "      <th>tweet_created</th>\n",
       "      <th>tweet_id</th>\n",
       "      <th>tweet_location</th>\n",
       "      <th>user_timezone</th>\n",
       "    </tr>\n",
       "  </thead>\n",
       "  <tbody>\n",
       "    <tr>\n",
       "      <th>0</th>\n",
       "      <td>815719226</td>\n",
       "      <td>False</td>\n",
       "      <td>finalized</td>\n",
       "      <td>3</td>\n",
       "      <td>10/26/15 23:24</td>\n",
       "      <td>male</td>\n",
       "      <td>1.0000</td>\n",
       "      <td>yes</td>\n",
       "      <td>1.0</td>\n",
       "      <td>12/5/13 1:48</td>\n",
       "      <td>...</td>\n",
       "      <td>https://pbs.twimg.com/profile_images/414342229...</td>\n",
       "      <td>0</td>\n",
       "      <td>FFFFFF</td>\n",
       "      <td>Robbie E Responds To Critics After Win Against...</td>\n",
       "      <td>NaN</td>\n",
       "      <td>110964</td>\n",
       "      <td>10/26/15 12:40</td>\n",
       "      <td>6.587300e+17</td>\n",
       "      <td>main; @Kan1shk3</td>\n",
       "      <td>Chennai</td>\n",
       "    </tr>\n",
       "    <tr>\n",
       "      <th>1</th>\n",
       "      <td>815719227</td>\n",
       "      <td>False</td>\n",
       "      <td>finalized</td>\n",
       "      <td>3</td>\n",
       "      <td>10/26/15 23:30</td>\n",
       "      <td>male</td>\n",
       "      <td>1.0000</td>\n",
       "      <td>yes</td>\n",
       "      <td>1.0</td>\n",
       "      <td>10/1/12 13:51</td>\n",
       "      <td>...</td>\n",
       "      <td>https://pbs.twimg.com/profile_images/539604221...</td>\n",
       "      <td>0</td>\n",
       "      <td>C0DEED</td>\n",
       "      <td>‰ÛÏIt felt like they were my friends and I was...</td>\n",
       "      <td>NaN</td>\n",
       "      <td>7471</td>\n",
       "      <td>10/26/15 12:40</td>\n",
       "      <td>6.587300e+17</td>\n",
       "      <td>NaN</td>\n",
       "      <td>Eastern Time (US &amp; Canada)</td>\n",
       "    </tr>\n",
       "    <tr>\n",
       "      <th>2</th>\n",
       "      <td>815719228</td>\n",
       "      <td>False</td>\n",
       "      <td>finalized</td>\n",
       "      <td>3</td>\n",
       "      <td>10/26/15 23:33</td>\n",
       "      <td>male</td>\n",
       "      <td>0.6625</td>\n",
       "      <td>yes</td>\n",
       "      <td>1.0</td>\n",
       "      <td>11/28/14 11:30</td>\n",
       "      <td>...</td>\n",
       "      <td>https://pbs.twimg.com/profile_images/657330418...</td>\n",
       "      <td>1</td>\n",
       "      <td>C0DEED</td>\n",
       "      <td>i absolutely adore when louis starts the songs...</td>\n",
       "      <td>NaN</td>\n",
       "      <td>5617</td>\n",
       "      <td>10/26/15 12:40</td>\n",
       "      <td>6.587300e+17</td>\n",
       "      <td>clcncl</td>\n",
       "      <td>Belgrade</td>\n",
       "    </tr>\n",
       "    <tr>\n",
       "      <th>3</th>\n",
       "      <td>815719229</td>\n",
       "      <td>False</td>\n",
       "      <td>finalized</td>\n",
       "      <td>3</td>\n",
       "      <td>10/26/15 23:10</td>\n",
       "      <td>male</td>\n",
       "      <td>1.0000</td>\n",
       "      <td>yes</td>\n",
       "      <td>1.0</td>\n",
       "      <td>6/11/09 22:39</td>\n",
       "      <td>...</td>\n",
       "      <td>https://pbs.twimg.com/profile_images/259703936...</td>\n",
       "      <td>0</td>\n",
       "      <td>C0DEED</td>\n",
       "      <td>Hi @JordanSpieth - Looking at the url - do you...</td>\n",
       "      <td>NaN</td>\n",
       "      <td>1693</td>\n",
       "      <td>10/26/15 12:40</td>\n",
       "      <td>6.587300e+17</td>\n",
       "      <td>Palo Alto, CA</td>\n",
       "      <td>Pacific Time (US &amp; Canada)</td>\n",
       "    </tr>\n",
       "    <tr>\n",
       "      <th>4</th>\n",
       "      <td>815719230</td>\n",
       "      <td>False</td>\n",
       "      <td>finalized</td>\n",
       "      <td>3</td>\n",
       "      <td>10/27/15 1:15</td>\n",
       "      <td>female</td>\n",
       "      <td>1.0000</td>\n",
       "      <td>yes</td>\n",
       "      <td>1.0</td>\n",
       "      <td>4/16/14 13:23</td>\n",
       "      <td>...</td>\n",
       "      <td>https://pbs.twimg.com/profile_images/564094871...</td>\n",
       "      <td>0</td>\n",
       "      <td>0</td>\n",
       "      <td>Watching Neighbours on Sky+ catching up with t...</td>\n",
       "      <td>NaN</td>\n",
       "      <td>31462</td>\n",
       "      <td>10/26/15 12:40</td>\n",
       "      <td>6.587300e+17</td>\n",
       "      <td>NaN</td>\n",
       "      <td>NaN</td>\n",
       "    </tr>\n",
       "  </tbody>\n",
       "</table>\n",
       "<p>5 rows × 26 columns</p>\n",
       "</div>"
      ],
      "text/plain": [
       "    _unit_id  _golden _unit_state  _trusted_judgments _last_judgment_at  \\\n",
       "0  815719226    False   finalized                   3    10/26/15 23:24   \n",
       "1  815719227    False   finalized                   3    10/26/15 23:30   \n",
       "2  815719228    False   finalized                   3    10/26/15 23:33   \n",
       "3  815719229    False   finalized                   3    10/26/15 23:10   \n",
       "4  815719230    False   finalized                   3     10/27/15 1:15   \n",
       "\n",
       "   gender  gender:confidence profile_yn  profile_yn:confidence  \\\n",
       "0    male             1.0000        yes                    1.0   \n",
       "1    male             1.0000        yes                    1.0   \n",
       "2    male             0.6625        yes                    1.0   \n",
       "3    male             1.0000        yes                    1.0   \n",
       "4  female             1.0000        yes                    1.0   \n",
       "\n",
       "          created  ...                                       profileimage  \\\n",
       "0    12/5/13 1:48  ...  https://pbs.twimg.com/profile_images/414342229...   \n",
       "1   10/1/12 13:51  ...  https://pbs.twimg.com/profile_images/539604221...   \n",
       "2  11/28/14 11:30  ...  https://pbs.twimg.com/profile_images/657330418...   \n",
       "3   6/11/09 22:39  ...  https://pbs.twimg.com/profile_images/259703936...   \n",
       "4   4/16/14 13:23  ...  https://pbs.twimg.com/profile_images/564094871...   \n",
       "\n",
       "   retweet_count sidebar_color  \\\n",
       "0              0        FFFFFF   \n",
       "1              0        C0DEED   \n",
       "2              1        C0DEED   \n",
       "3              0        C0DEED   \n",
       "4              0             0   \n",
       "\n",
       "                                                text tweet_coord tweet_count  \\\n",
       "0  Robbie E Responds To Critics After Win Against...         NaN      110964   \n",
       "1  ‰ÛÏIt felt like they were my friends and I was...         NaN        7471   \n",
       "2  i absolutely adore when louis starts the songs...         NaN        5617   \n",
       "3  Hi @JordanSpieth - Looking at the url - do you...         NaN        1693   \n",
       "4  Watching Neighbours on Sky+ catching up with t...         NaN       31462   \n",
       "\n",
       "    tweet_created      tweet_id   tweet_location               user_timezone  \n",
       "0  10/26/15 12:40  6.587300e+17  main; @Kan1shk3                     Chennai  \n",
       "1  10/26/15 12:40  6.587300e+17              NaN  Eastern Time (US & Canada)  \n",
       "2  10/26/15 12:40  6.587300e+17           clcncl                    Belgrade  \n",
       "3  10/26/15 12:40  6.587300e+17    Palo Alto, CA  Pacific Time (US & Canada)  \n",
       "4  10/26/15 12:40  6.587300e+17              NaN                         NaN  \n",
       "\n",
       "[5 rows x 26 columns]"
      ]
     },
     "execution_count": 205,
     "metadata": {},
     "output_type": "execute_result"
    }
   ],
   "source": [
    "df.head()"
   ]
  },
  {
   "cell_type": "code",
   "execution_count": 206,
   "metadata": {},
   "outputs": [
    {
     "name": "stdout",
     "output_type": "stream",
     "text": [
      "<class 'pandas.core.frame.DataFrame'>\n",
      "RangeIndex: 20050 entries, 0 to 20049\n",
      "Data columns (total 26 columns):\n",
      " #   Column                 Non-Null Count  Dtype  \n",
      "---  ------                 --------------  -----  \n",
      " 0   _unit_id               20050 non-null  int64  \n",
      " 1   _golden                20050 non-null  bool   \n",
      " 2   _unit_state            20050 non-null  object \n",
      " 3   _trusted_judgments     20050 non-null  int64  \n",
      " 4   _last_judgment_at      20000 non-null  object \n",
      " 5   gender                 19953 non-null  object \n",
      " 6   gender:confidence      20024 non-null  float64\n",
      " 7   profile_yn             20050 non-null  object \n",
      " 8   profile_yn:confidence  20050 non-null  float64\n",
      " 9   created                20050 non-null  object \n",
      " 10  description            16306 non-null  object \n",
      " 11  fav_number             20050 non-null  int64  \n",
      " 12  gender_gold            50 non-null     object \n",
      " 13  link_color             20050 non-null  object \n",
      " 14  name                   20050 non-null  object \n",
      " 15  profile_yn_gold        50 non-null     object \n",
      " 16  profileimage           20050 non-null  object \n",
      " 17  retweet_count          20050 non-null  int64  \n",
      " 18  sidebar_color          20050 non-null  object \n",
      " 19  text                   20050 non-null  object \n",
      " 20  tweet_coord            159 non-null    object \n",
      " 21  tweet_count            20050 non-null  int64  \n",
      " 22  tweet_created          20050 non-null  object \n",
      " 23  tweet_id               20050 non-null  float64\n",
      " 24  tweet_location         12566 non-null  object \n",
      " 25  user_timezone          12252 non-null  object \n",
      "dtypes: bool(1), float64(3), int64(5), object(17)\n",
      "memory usage: 3.8+ MB\n"
     ]
    }
   ],
   "source": [
    "df.info()"
   ]
  },
  {
   "cell_type": "code",
   "execution_count": 207,
   "metadata": {},
   "outputs": [
    {
     "data": {
      "text/plain": [
       "['_unit_id',\n",
       " '_golden',\n",
       " '_unit_state',\n",
       " '_trusted_judgments',\n",
       " '_last_judgment_at',\n",
       " 'gender',\n",
       " 'gender:confidence',\n",
       " 'profile_yn',\n",
       " 'profile_yn:confidence',\n",
       " 'created',\n",
       " 'description',\n",
       " 'fav_number',\n",
       " 'gender_gold',\n",
       " 'link_color',\n",
       " 'name',\n",
       " 'profile_yn_gold',\n",
       " 'profileimage',\n",
       " 'retweet_count',\n",
       " 'sidebar_color',\n",
       " 'text',\n",
       " 'tweet_coord',\n",
       " 'tweet_count',\n",
       " 'tweet_created',\n",
       " 'tweet_id',\n",
       " 'tweet_location',\n",
       " 'user_timezone']"
      ]
     },
     "execution_count": 207,
     "metadata": {},
     "output_type": "execute_result"
    }
   ],
   "source": [
    "df.columns.tolist()"
   ]
  },
  {
   "cell_type": "code",
   "execution_count": 208,
   "metadata": {},
   "outputs": [
    {
     "data": {
      "text/plain": [
       "_unit_id                     0\n",
       "_golden                      0\n",
       "_unit_state                  0\n",
       "_trusted_judgments           0\n",
       "_last_judgment_at           50\n",
       "gender                      97\n",
       "gender:confidence           26\n",
       "profile_yn                   0\n",
       "profile_yn:confidence        0\n",
       "created                      0\n",
       "description               3744\n",
       "fav_number                   0\n",
       "gender_gold              20000\n",
       "link_color                   0\n",
       "name                         0\n",
       "profile_yn_gold          20000\n",
       "profileimage                 0\n",
       "retweet_count                0\n",
       "sidebar_color                0\n",
       "text                         0\n",
       "tweet_coord              19891\n",
       "tweet_count                  0\n",
       "tweet_created                0\n",
       "tweet_id                     0\n",
       "tweet_location            7484\n",
       "user_timezone             7798\n",
       "dtype: int64"
      ]
     },
     "execution_count": 208,
     "metadata": {},
     "output_type": "execute_result"
    }
   ],
   "source": [
    "df.isnull().sum()"
   ]
  },
  {
   "cell_type": "code",
   "execution_count": 209,
   "metadata": {},
   "outputs": [
    {
     "data": {
      "text/plain": [
       "_unit_id                   int64\n",
       "_golden                     bool\n",
       "_unit_state               object\n",
       "_trusted_judgments         int64\n",
       "_last_judgment_at         object\n",
       "gender                    object\n",
       "gender:confidence        float64\n",
       "profile_yn                object\n",
       "profile_yn:confidence    float64\n",
       "created                   object\n",
       "description               object\n",
       "fav_number                 int64\n",
       "gender_gold               object\n",
       "link_color                object\n",
       "name                      object\n",
       "profile_yn_gold           object\n",
       "profileimage              object\n",
       "retweet_count              int64\n",
       "sidebar_color             object\n",
       "text                      object\n",
       "tweet_coord               object\n",
       "tweet_count                int64\n",
       "tweet_created             object\n",
       "tweet_id                 float64\n",
       "tweet_location            object\n",
       "user_timezone             object\n",
       "dtype: object"
      ]
     },
     "execution_count": 209,
     "metadata": {},
     "output_type": "execute_result"
    }
   ],
   "source": [
    "df.dtypes"
   ]
  },
  {
   "cell_type": "code",
   "execution_count": 210,
   "metadata": {},
   "outputs": [
    {
     "name": "stdout",
     "output_type": "stream",
     "text": [
      "<class 'pandas.core.frame.DataFrame'>\n",
      "RangeIndex: 20050 entries, 0 to 20049\n",
      "Data columns (total 16 columns):\n",
      " #   Column                 Non-Null Count  Dtype  \n",
      "---  ------                 --------------  -----  \n",
      " 0   _golden                20050 non-null  bool   \n",
      " 1   _unit_state            20050 non-null  object \n",
      " 2   _trusted_judgments     20050 non-null  int64  \n",
      " 3   gender                 19953 non-null  object \n",
      " 4   gender:confidence      20024 non-null  float64\n",
      " 5   profile_yn             20050 non-null  object \n",
      " 6   profile_yn:confidence  20050 non-null  float64\n",
      " 7   description            16306 non-null  object \n",
      " 8   fav_number             20050 non-null  int64  \n",
      " 9   gender_gold            50 non-null     object \n",
      " 10  link_color             20050 non-null  object \n",
      " 11  name                   20050 non-null  object \n",
      " 12  profile_yn_gold        50 non-null     object \n",
      " 13  retweet_count          20050 non-null  int64  \n",
      " 14  sidebar_color          20050 non-null  object \n",
      " 15  text                   20050 non-null  object \n",
      "dtypes: bool(1), float64(2), int64(3), object(10)\n",
      "memory usage: 2.3+ MB\n"
     ]
    }
   ],
   "source": [
    "#Drop unnecessary columns/features\n",
    "\n",
    "df.drop (columns = ['_unit_id',\n",
    "                      '_last_judgment_at',\n",
    "                      'user_timezone',\n",
    "                      'tweet_coord',\n",
    "                      'tweet_count',\n",
    "                      'tweet_created',\n",
    "                      'tweet_id',\n",
    "                      'tweet_location',\n",
    "                      'profileimage',\n",
    "                      'created'], inplace = True )\n",
    "df.info()"
   ]
  },
  {
   "cell_type": "code",
   "execution_count": 211,
   "metadata": {},
   "outputs": [
    {
     "data": {
      "text/plain": [
       "female     6700\n",
       "male       6194\n",
       "brand      5942\n",
       "unknown    1117\n",
       "Name: gender, dtype: int64"
      ]
     },
     "execution_count": 211,
     "metadata": {},
     "output_type": "execute_result"
    }
   ],
   "source": [
    "df['gender'].value_counts()"
   ]
  },
  {
   "cell_type": "code",
   "execution_count": 212,
   "metadata": {},
   "outputs": [
    {
     "data": {
      "text/plain": [
       "female    6700\n",
       "male      6194\n",
       "brand     5942\n",
       "Name: gender, dtype: int64"
      ]
     },
     "execution_count": 212,
     "metadata": {},
     "output_type": "execute_result"
    }
   ],
   "source": [
    "#Removing rows with unknown gender\n",
    "drop_items_idx = df[df['gender'] == 'unknown'].index\n",
    "df.drop (index = drop_items_idx, inplace = True)\n",
    "df['gender'].value_counts()"
   ]
  },
  {
   "cell_type": "code",
   "execution_count": 213,
   "metadata": {},
   "outputs": [
    {
     "name": "stdout",
     "output_type": "stream",
     "text": [
      "profile_yn information:\n",
      " yes    18836\n",
      "no        97\n",
      "Name: profile_yn, dtype: int64\n"
     ]
    },
    {
     "data": {
      "text/plain": [
       "109      NaN\n",
       "137      NaN\n",
       "496      NaN\n",
       "582      NaN\n",
       "679      NaN\n",
       "        ... \n",
       "18524    NaN\n",
       "18700    NaN\n",
       "18840    NaN\n",
       "19773    NaN\n",
       "19842    NaN\n",
       "Name: gender, Length: 97, dtype: object"
      ]
     },
     "execution_count": 213,
     "metadata": {},
     "output_type": "execute_result"
    }
   ],
   "source": [
    "print ('profile_yn information:\\n', df['profile_yn'].value_counts())\n",
    "df[df['profile_yn'] == 'no']['gender']"
   ]
  },
  {
   "cell_type": "code",
   "execution_count": 214,
   "metadata": {},
   "outputs": [
    {
     "name": "stdout",
     "output_type": "stream",
     "text": [
      "yes    18836\n",
      "Name: profile_yn, dtype: int64\n"
     ]
    }
   ],
   "source": [
    "drop_items_idx = df[df['profile_yn'] == 'no'].index\n",
    "\n",
    "df.drop (index = drop_items_idx, inplace = True)\n",
    "\n",
    "print (df['profile_yn'].value_counts())\n",
    "\n",
    "df.drop (columns = ['profile_yn','profile_yn:confidence','profile_yn_gold'], inplace = True)"
   ]
  },
  {
   "cell_type": "code",
   "execution_count": 215,
   "metadata": {},
   "outputs": [
    {
     "name": "stdout",
     "output_type": "stream",
     "text": [
      "Full data items:  (18836, 13)\n",
      "Data with label-confidence < 100%:  (5032, 13)\n"
     ]
    }
   ],
   "source": [
    "print ('Full data items: ', df.shape)\n",
    "#remove rows with confidence less than 100%\n",
    "print ('Data with label-confidence < 100%: ', df[df['gender:confidence'] < 1].shape)"
   ]
  },
  {
   "cell_type": "code",
   "execution_count": 216,
   "metadata": {},
   "outputs": [
    {
     "name": "stdout",
     "output_type": "stream",
     "text": [
      "1.0    13804\n",
      "Name: gender:confidence, dtype: int64\n"
     ]
    }
   ],
   "source": [
    "drop_items_idx = df[df['gender:confidence'] < 1].index\n",
    "\n",
    "df.drop (index = drop_items_idx, inplace = True)\n",
    "print (df['gender:confidence'].value_counts())\n"
   ]
  },
  {
   "cell_type": "code",
   "execution_count": 217,
   "metadata": {},
   "outputs": [
    {
     "data": {
      "text/html": [
       "<div>\n",
       "<style scoped>\n",
       "    .dataframe tbody tr th:only-of-type {\n",
       "        vertical-align: middle;\n",
       "    }\n",
       "\n",
       "    .dataframe tbody tr th {\n",
       "        vertical-align: top;\n",
       "    }\n",
       "\n",
       "    .dataframe thead th {\n",
       "        text-align: right;\n",
       "    }\n",
       "</style>\n",
       "<table border=\"1\" class=\"dataframe\">\n",
       "  <thead>\n",
       "    <tr style=\"text-align: right;\">\n",
       "      <th></th>\n",
       "      <th>_golden</th>\n",
       "      <th>_unit_state</th>\n",
       "      <th>_trusted_judgments</th>\n",
       "      <th>gender</th>\n",
       "      <th>gender:confidence</th>\n",
       "      <th>description</th>\n",
       "      <th>fav_number</th>\n",
       "      <th>gender_gold</th>\n",
       "      <th>link_color</th>\n",
       "      <th>name</th>\n",
       "      <th>retweet_count</th>\n",
       "      <th>sidebar_color</th>\n",
       "      <th>text</th>\n",
       "    </tr>\n",
       "  </thead>\n",
       "  <tbody>\n",
       "    <tr>\n",
       "      <th>0</th>\n",
       "      <td>False</td>\n",
       "      <td>finalized</td>\n",
       "      <td>3</td>\n",
       "      <td>male</td>\n",
       "      <td>1.0</td>\n",
       "      <td>i sing my own rhythm.</td>\n",
       "      <td>0</td>\n",
       "      <td>NaN</td>\n",
       "      <td>08C2C2</td>\n",
       "      <td>sheezy0</td>\n",
       "      <td>0</td>\n",
       "      <td>FFFFFF</td>\n",
       "      <td>Robbie E Responds To Critics After Win Against...</td>\n",
       "    </tr>\n",
       "    <tr>\n",
       "      <th>1</th>\n",
       "      <td>False</td>\n",
       "      <td>finalized</td>\n",
       "      <td>3</td>\n",
       "      <td>male</td>\n",
       "      <td>1.0</td>\n",
       "      <td>I'm the author of novels filled with family dr...</td>\n",
       "      <td>68</td>\n",
       "      <td>NaN</td>\n",
       "      <td>0084B4</td>\n",
       "      <td>DavdBurnett</td>\n",
       "      <td>0</td>\n",
       "      <td>C0DEED</td>\n",
       "      <td>‰ÛÏIt felt like they were my friends and I was...</td>\n",
       "    </tr>\n",
       "  </tbody>\n",
       "</table>\n",
       "</div>"
      ],
      "text/plain": [
       "   _golden _unit_state  _trusted_judgments gender  gender:confidence  \\\n",
       "0    False   finalized                   3   male                1.0   \n",
       "1    False   finalized                   3   male                1.0   \n",
       "\n",
       "                                         description  fav_number gender_gold  \\\n",
       "0                              i sing my own rhythm.           0         NaN   \n",
       "1  I'm the author of novels filled with family dr...          68         NaN   \n",
       "\n",
       "  link_color         name  retweet_count sidebar_color  \\\n",
       "0     08C2C2      sheezy0              0        FFFFFF   \n",
       "1     0084B4  DavdBurnett              0        C0DEED   \n",
       "\n",
       "                                                text  \n",
       "0  Robbie E Responds To Critics After Win Against...  \n",
       "1  ‰ÛÏIt felt like they were my friends and I was...  "
      ]
     },
     "execution_count": 217,
     "metadata": {},
     "output_type": "execute_result"
    }
   ],
   "source": [
    "df.head(2)"
   ]
  },
  {
   "cell_type": "code",
   "execution_count": 218,
   "metadata": {},
   "outputs": [],
   "source": [
    "import re\n",
    "def normalize_text(s):\n",
    "    s = str(s)\n",
    "    s = s.lower()\n",
    "    s = re.sub('[^\\x00-\\x7F]+',' ',s)\n",
    "    \n",
    "    # Remove URLs\n",
    "    s= re.sub('https?:\\/\\/.*[\\r\\n]*', ' ',s)\n",
    "    \n",
    "    # Remove special chars.\n",
    "    s= re.sub('[?!+%{}:;.,\"\\'()\\[\\]_]', '',s)\n",
    "    \n",
    "    # Remove double spaces.\n",
    "    s= re.sub('\\s+',' ',s)\n",
    "    \n",
    "   \n",
    "    \n",
    "    return s\n",
    "\n",
    "df['text_norm'] = [normalize_text(s) for s in df['text']]\n",
    "#df['description_norm'] = [normalize_text(s) for s in df['description']]"
   ]
  },
  {
   "cell_type": "code",
   "execution_count": 219,
   "metadata": {},
   "outputs": [
    {
     "data": {
      "text/plain": [
       "(13804, 14)"
      ]
     },
     "execution_count": 219,
     "metadata": {},
     "output_type": "execute_result"
    }
   ],
   "source": [
    "df_confident = df[df['gender:confidence']==1]\n",
    "df_confident.shape"
   ]
  },
  {
   "cell_type": "code",
   "execution_count": 220,
   "metadata": {},
   "outputs": [
    {
     "name": "stderr",
     "output_type": "stream",
     "text": [
      "[nltk_data] Downloading package stopwords to\n",
      "[nltk_data]     C:\\Users\\LENOVO\\AppData\\Roaming\\nltk_data...\n",
      "[nltk_data]   Package stopwords is already up-to-date!\n"
     ]
    },
    {
     "data": {
      "text/plain": [
       "True"
      ]
     },
     "execution_count": 220,
     "metadata": {},
     "output_type": "execute_result"
    }
   ],
   "source": [
    "import nltk\n",
    "nltk.download('stopwords')"
   ]
  },
  {
   "cell_type": "code",
   "execution_count": 221,
   "metadata": {},
   "outputs": [
    {
     "data": {
      "text/html": [
       "<div>\n",
       "<style scoped>\n",
       "    .dataframe tbody tr th:only-of-type {\n",
       "        vertical-align: middle;\n",
       "    }\n",
       "\n",
       "    .dataframe tbody tr th {\n",
       "        vertical-align: top;\n",
       "    }\n",
       "\n",
       "    .dataframe thead th {\n",
       "        text-align: right;\n",
       "    }\n",
       "</style>\n",
       "<table border=\"1\" class=\"dataframe\">\n",
       "  <thead>\n",
       "    <tr style=\"text-align: right;\">\n",
       "      <th></th>\n",
       "      <th>_golden</th>\n",
       "      <th>_unit_state</th>\n",
       "      <th>_trusted_judgments</th>\n",
       "      <th>gender</th>\n",
       "      <th>gender:confidence</th>\n",
       "      <th>description</th>\n",
       "      <th>fav_number</th>\n",
       "      <th>gender_gold</th>\n",
       "      <th>link_color</th>\n",
       "      <th>name</th>\n",
       "      <th>retweet_count</th>\n",
       "      <th>sidebar_color</th>\n",
       "      <th>text</th>\n",
       "      <th>text_norm</th>\n",
       "    </tr>\n",
       "  </thead>\n",
       "  <tbody>\n",
       "    <tr>\n",
       "      <th>0</th>\n",
       "      <td>False</td>\n",
       "      <td>finalized</td>\n",
       "      <td>3</td>\n",
       "      <td>male</td>\n",
       "      <td>1.0</td>\n",
       "      <td>i sing my own rhythm.</td>\n",
       "      <td>0</td>\n",
       "      <td>NaN</td>\n",
       "      <td>08C2C2</td>\n",
       "      <td>sheezy0</td>\n",
       "      <td>0</td>\n",
       "      <td>FFFFFF</td>\n",
       "      <td>Robbie E Responds To Critics After Win Against...</td>\n",
       "      <td>[robbie, e, responds, critics, win, eddie, edw...</td>\n",
       "    </tr>\n",
       "    <tr>\n",
       "      <th>1</th>\n",
       "      <td>False</td>\n",
       "      <td>finalized</td>\n",
       "      <td>3</td>\n",
       "      <td>male</td>\n",
       "      <td>1.0</td>\n",
       "      <td>I'm the author of novels filled with family dr...</td>\n",
       "      <td>68</td>\n",
       "      <td>NaN</td>\n",
       "      <td>0084B4</td>\n",
       "      <td>DavdBurnett</td>\n",
       "      <td>0</td>\n",
       "      <td>C0DEED</td>\n",
       "      <td>‰ÛÏIt felt like they were my friends and I was...</td>\n",
       "      <td>[felt, like, friends, living, story]</td>\n",
       "    </tr>\n",
       "    <tr>\n",
       "      <th>3</th>\n",
       "      <td>False</td>\n",
       "      <td>finalized</td>\n",
       "      <td>3</td>\n",
       "      <td>male</td>\n",
       "      <td>1.0</td>\n",
       "      <td>Mobile guy.  49ers, Shazam, Google, Kleiner Pe...</td>\n",
       "      <td>202</td>\n",
       "      <td>NaN</td>\n",
       "      <td>0084B4</td>\n",
       "      <td>douggarland</td>\n",
       "      <td>0</td>\n",
       "      <td>C0DEED</td>\n",
       "      <td>Hi @JordanSpieth - Looking at the url - do you...</td>\n",
       "      <td>[hi, @jordanspieth, -, looking, url, -, use, @...</td>\n",
       "    </tr>\n",
       "    <tr>\n",
       "      <th>4</th>\n",
       "      <td>False</td>\n",
       "      <td>finalized</td>\n",
       "      <td>3</td>\n",
       "      <td>female</td>\n",
       "      <td>1.0</td>\n",
       "      <td>Ricky Wilson The Best FRONTMAN/Kaiser Chiefs T...</td>\n",
       "      <td>37318</td>\n",
       "      <td>NaN</td>\n",
       "      <td>3B94D9</td>\n",
       "      <td>WilfordGemma</td>\n",
       "      <td>0</td>\n",
       "      <td>0</td>\n",
       "      <td>Watching Neighbours on Sky+ catching up with t...</td>\n",
       "      <td>[watching, neighbours, sky, catching, neighbs,...</td>\n",
       "    </tr>\n",
       "    <tr>\n",
       "      <th>5</th>\n",
       "      <td>False</td>\n",
       "      <td>finalized</td>\n",
       "      <td>3</td>\n",
       "      <td>female</td>\n",
       "      <td>1.0</td>\n",
       "      <td>you don't know me.</td>\n",
       "      <td>3901</td>\n",
       "      <td>NaN</td>\n",
       "      <td>F5ABB5</td>\n",
       "      <td>monroevicious</td>\n",
       "      <td>0</td>\n",
       "      <td>0</td>\n",
       "      <td>Ive seen people on the train with lamps, chair...</td>\n",
       "      <td>[ive, seen, people, train, lamps, chairs, tvs,...</td>\n",
       "    </tr>\n",
       "  </tbody>\n",
       "</table>\n",
       "</div>"
      ],
      "text/plain": [
       "   _golden _unit_state  _trusted_judgments  gender  gender:confidence  \\\n",
       "0    False   finalized                   3    male                1.0   \n",
       "1    False   finalized                   3    male                1.0   \n",
       "3    False   finalized                   3    male                1.0   \n",
       "4    False   finalized                   3  female                1.0   \n",
       "5    False   finalized                   3  female                1.0   \n",
       "\n",
       "                                         description  fav_number gender_gold  \\\n",
       "0                              i sing my own rhythm.           0         NaN   \n",
       "1  I'm the author of novels filled with family dr...          68         NaN   \n",
       "3  Mobile guy.  49ers, Shazam, Google, Kleiner Pe...         202         NaN   \n",
       "4  Ricky Wilson The Best FRONTMAN/Kaiser Chiefs T...       37318         NaN   \n",
       "5                                 you don't know me.        3901         NaN   \n",
       "\n",
       "  link_color           name  retweet_count sidebar_color  \\\n",
       "0     08C2C2        sheezy0              0        FFFFFF   \n",
       "1     0084B4    DavdBurnett              0        C0DEED   \n",
       "3     0084B4    douggarland              0        C0DEED   \n",
       "4     3B94D9   WilfordGemma              0             0   \n",
       "5     F5ABB5  monroevicious              0             0   \n",
       "\n",
       "                                                text  \\\n",
       "0  Robbie E Responds To Critics After Win Against...   \n",
       "1  ‰ÛÏIt felt like they were my friends and I was...   \n",
       "3  Hi @JordanSpieth - Looking at the url - do you...   \n",
       "4  Watching Neighbours on Sky+ catching up with t...   \n",
       "5  Ive seen people on the train with lamps, chair...   \n",
       "\n",
       "                                           text_norm  \n",
       "0  [robbie, e, responds, critics, win, eddie, edw...  \n",
       "1               [felt, like, friends, living, story]  \n",
       "3  [hi, @jordanspieth, -, looking, url, -, use, @...  \n",
       "4  [watching, neighbours, sky, catching, neighbs,...  \n",
       "5  [ive, seen, people, train, lamps, chairs, tvs,...  "
      ]
     },
     "execution_count": 221,
     "metadata": {},
     "output_type": "execute_result"
    }
   ],
   "source": [
    "#Removing stopwords and splitting the data into individual words\n",
    "from nltk.corpus import stopwords\n",
    "stop = set(stopwords.words('english'))\n",
    "df_confident['text_norm'] = df_confident['text_norm'].astype(str).str.lower().str.split()\n",
    "df_confident['text_norm'] = df_confident['text_norm'].apply(lambda x : [item for item in x if item not in stop])\n",
    "df_confident.head()"
   ]
  },
  {
   "cell_type": "code",
   "execution_count": 222,
   "metadata": {},
   "outputs": [],
   "source": [
    "#Calculating the frequency of words used by males, females and brands\n",
    "Male = df_confident[df_confident['gender'] == 'male']\n",
    "Female = df_confident[df_confident['gender'] == 'female']\n",
    "Brand = df_confident[df_confident['gender'] == 'brand']\n",
    "Male_Words = pd.Series(' '.join(Male['text_norm'].astype(str)).lower().split(\" \")).value_counts()[:20]\n",
    "Female_Words = pd.Series(' '.join(Female['text_norm'].astype(str)).lower().split(\" \")).value_counts()[:20]\n",
    "Brand_words = pd.Series(' '.join(Brand['text_norm'].astype(str)).lower().split(\" \")).value_counts()[:10]\n"
   ]
  },
  {
   "cell_type": "code",
   "execution_count": 223,
   "metadata": {},
   "outputs": [
    {
     "data": {
      "text/plain": [
       "'im',      408\n",
       "'like',    309\n",
       "'get',     267\n",
       "'one',     208\n",
       "'day',     200\n",
       "dtype: int64"
      ]
     },
     "execution_count": 223,
     "metadata": {},
     "output_type": "execute_result"
    },
    {
     "data": {
      "image/png": "[encoded data removed]",
      "text/plain": [
       "<Figure size 432x288 with 1 Axes>"
      ]
     },
     "metadata": {
      "needs_background": "light"
     },
     "output_type": "display_data"
    }
   ],
   "source": [
    "Female_Words.plot(kind='bar',stacked=True, colormap='PuOr')\n",
    "Female_Words.head()"
   ]
  },
  {
   "cell_type": "code",
   "execution_count": 224,
   "metadata": {},
   "outputs": [
    {
     "data": {
      "text/plain": [
       "'like',    242\n",
       "'get',     227\n",
       "'im',      221\n",
       "'-',       202\n",
       "'dont',    166\n",
       "dtype: int64"
      ]
     },
     "execution_count": 224,
     "metadata": {},
     "output_type": "execute_result"
    },
    {
     "data": {
      "image/png": "[encoded data removed]",
      "text/plain": [
       "<Figure size 432x288 with 1 Axes>"
      ]
     },
     "metadata": {
      "needs_background": "light"
     },
     "output_type": "display_data"
    }
   ],
   "source": [
    "Male_Words.plot(kind='bar',stacked=True, colormap='PuOr')\n",
    "Male_Words.head()"
   ]
  },
  {
   "cell_type": "code",
   "execution_count": 225,
   "metadata": {},
   "outputs": [
    {
     "data": {
      "text/plain": [
       "'weather',    1078\n",
       "['get',        553\n",
       "'updates',     541\n",
       "'channel',     539\n",
       "'-',           270\n",
       "dtype: int64"
      ]
     },
     "execution_count": 225,
     "metadata": {},
     "output_type": "execute_result"
    },
    {
     "data": {
      "image/png": "[encoded data removed]",
      "text/plain": [
       "<Figure size 432x288 with 1 Axes>"
      ]
     },
     "metadata": {
      "needs_background": "light"
     },
     "output_type": "display_data"
    }
   ],
   "source": [
    "Brand_words.plot(kind='bar',stacked=True, colormap='PuOr')\n",
    "Brand_words.head()"
   ]
  },
  {
   "cell_type": "code",
   "execution_count": 226,
   "metadata": {},
   "outputs": [
    {
     "name": "stdout",
     "output_type": "stream",
     "text": [
      "['0084B4' '009999' '3B94D9' '2FC2EF' 'DD2E44' '000000' 'ABB8C2']\n"
     ]
    },
    {
     "data": {
      "text/plain": [
       "<matplotlib.axes._subplots.AxesSubplot at 0x230c011bf70>"
      ]
     },
     "execution_count": 226,
     "metadata": {},
     "output_type": "execute_result"
    },
    {
     "data": {
      "image/png": "[encoded data removed]",
      "text/plain": [
       "<Figure size 432x288 with 1 Axes>"
      ]
     },
     "metadata": {},
     "output_type": "display_data"
    }
   ],
   "source": [
    "#Favorite link colors used by males and females\n",
    "male_top_link_color = df[df['gender'] == 'male']['link_color'].value_counts().head(7)\n",
    "male_top_link_color_idx = male_top_link_color.index\n",
    "male_top_color = male_top_link_color_idx.values\n",
    "male_top_color[1] = '009999'\n",
    "male_top_color[5] = '000000'\n",
    "print(male_top_color)\n",
    "\n",
    "l = lambda x: '#'+x\n",
    "\n",
    "sns.set_style(\"whitegrid\", {\"axes.facecolor\": \"white\"})\n",
    "sns.barplot (x = male_top_link_color, y = male_top_link_color_idx, palette=list(map(l, male_top_color)))"
   ]
  },
  {
   "cell_type": "code",
   "execution_count": 227,
   "metadata": {},
   "outputs": [
    {
     "name": "stdout",
     "output_type": "stream",
     "text": [
      "['0084B4' '9266CC' 'F5ABB5' 'DD2E44' 'FF0000' '3B94D9' 'ABB8C2']\n"
     ]
    },
    {
     "data": {
      "text/plain": [
       "<matplotlib.axes._subplots.AxesSubplot at 0x230c350c580>"
      ]
     },
     "execution_count": 227,
     "metadata": {},
     "output_type": "execute_result"
    },
    {
     "data": {
      "image/png": "[encoded data removed]",
      "text/plain": [
       "<Figure size 432x288 with 1 Axes>"
      ]
     },
     "metadata": {},
     "output_type": "display_data"
    }
   ],
   "source": [
    "female_top_link_color = df[df['gender'] == 'female']['link_color'].value_counts().head(7)\n",
    "female_top_link_color_idx = female_top_link_color.index\n",
    "female_top_color = female_top_link_color_idx.values\n",
    "print(female_top_color)\n",
    "l = lambda x: '#'+x\n",
    "\n",
    "sns.set_style(\"whitegrid\", {\"axes.facecolor\": \"white\"})\n",
    "sns.barplot (x = female_top_link_color, y = female_top_link_color_idx, palette=list(map(l, female_top_color)))"
   ]
  },
  {
   "cell_type": "code",
   "execution_count": 228,
   "metadata": {},
   "outputs": [
    {
     "data": {
      "text/plain": [
       "[('the', 8370),\n",
       " ('and', 7964),\n",
       " ('to', 4196),\n",
       " ('I', 3229),\n",
       " ('a', 3064),\n",
       " ('of', 2741),\n",
       " ('in', 2270),\n",
       " ('you', 2173),\n",
       " ('for', 2157),\n",
       " ('The', 2018),\n",
       " ('is', 1878),\n",
       " ('on', 1621),\n",
       " ('my', 1362),\n",
       " ('it', 1205),\n",
       " ('', 1184),\n",
       " ('with', 1156),\n",
       " ('Weather', 1074),\n",
       " ('that', 1032),\n",
       " ('from', 1022),\n",
       " ('me', 1001)]"
      ]
     },
     "execution_count": 228,
     "metadata": {},
     "output_type": "execute_result"
    }
   ],
   "source": [
    "#Most common words without removing stopwords\n",
    "from collections import Counter\n",
    "\n",
    "twit_vocab = Counter()\n",
    "for twit in df['text']:\n",
    "    for word in twit.split(' '):\n",
    "        twit_vocab[word] += 1\n",
    "        \n",
    "twit_vocab.most_common(20)"
   ]
  },
  {
   "cell_type": "code",
   "execution_count": 229,
   "metadata": {},
   "outputs": [
    {
     "data": {
      "text/plain": [
       "[('I', 3229),\n",
       " ('The', 2018),\n",
       " ('', 1184),\n",
       " ('Weather', 1074),\n",
       " ('-', 767),\n",
       " (\"I'm\", 651),\n",
       " ('like', 628),\n",
       " ('Get', 627),\n",
       " ('get', 570),\n",
       " ('Updates', 538),\n",
       " ('Channel.', 537),\n",
       " ('And', 487),\n",
       " ('one', 416),\n",
       " ('&amp;', 348),\n",
       " ('new', 343),\n",
       " ('love', 340),\n",
       " ('people', 315),\n",
       " ('time', 301),\n",
       " ('go', 290),\n",
       " ('know', 288)]"
      ]
     },
     "execution_count": 229,
     "metadata": {},
     "output_type": "execute_result"
    }
   ],
   "source": [
    "#Most common words after removing stop words\n",
    "from nltk.corpus import stopwords\n",
    "stop = stopwords.words('english')\n",
    "\n",
    "twit_vocab_reduced = Counter()\n",
    "for w, c in twit_vocab.items():\n",
    "    if not w in stop:\n",
    "        twit_vocab_reduced[w]=c\n",
    "\n",
    "twit_vocab_reduced.most_common(20)"
   ]
  },
  {
   "cell_type": "code",
   "execution_count": 230,
   "metadata": {},
   "outputs": [],
   "source": [
    "import re\n",
    "\n",
    "def preprocessor(text):\n",
    "    \"\"\" Return a cleaned version of text\n",
    "    \"\"\"\n",
    "    # Remove HTML markup\n",
    "    text = re.sub('<[^>]*>', '', text)\n",
    "    # Save emoticons for later appending\n",
    "    emoticons = re.findall('(?::|;|=)(?:-)?(?:\\)|\\(|D|P)', text)\n",
    "    # Remove any non-word character and append the emoticons,\n",
    "    # removing the nose character for standarization. Convert to lower case\n",
    "    text = (re.sub('[\\W]+', ' ', text.lower()) + ' ' + ' '.join(emoticons).replace('-', ''))\n",
    "    \n",
    "    return text"
   ]
  },
  {
   "cell_type": "code",
   "execution_count": 231,
   "metadata": {},
   "outputs": [],
   "source": [
    "from nltk.stem import PorterStemmer\n",
    "\n",
    "porter = PorterStemmer()\n",
    "\n",
    "def tokenizer(text):\n",
    "    return text.split()\n",
    "\n",
    "def tokenizer_porter(text):\n",
    "    return [porter.stem(word) for word in text.split()]\n"
   ]
  },
  {
   "cell_type": "code",
   "execution_count": 232,
   "metadata": {},
   "outputs": [
    {
     "data": {
      "text/plain": [
       "<matplotlib.axes._subplots.AxesSubplot at 0x230c3455640>"
      ]
     },
     "execution_count": 232,
     "metadata": {},
     "output_type": "execute_result"
    },
    {
     "data": {
      "image/png": "[encoded data removed]",
      "text/plain": [
       "<Figure size 432x288 with 1 Axes>"
      ]
     },
     "metadata": {},
     "output_type": "display_data"
    }
   ],
   "source": [
    "#Plotting the count of each gender\n",
    "sns.countplot(df['gender'],label=\"Gender\")"
   ]
  },
  {
   "cell_type": "code",
   "execution_count": 233,
   "metadata": {},
   "outputs": [
    {
     "data": {
      "text/plain": [
       "<matplotlib.axes._subplots.AxesSubplot at 0x230c2e484c0>"
      ]
     },
     "execution_count": 233,
     "metadata": {},
     "output_type": "execute_result"
    },
    {
     "data": {
      "image/png": "[encoded data removed]",
      "text/plain": [
       "<Figure size 432x288 with 1 Axes>"
      ]
     },
     "metadata": {},
     "output_type": "display_data"
    }
   ],
   "source": [
    "#Bar plot of gender vs. retweet_count\n",
    "sns.barplot(x='gender',y='retweet_count',data=df)"
   ]
  },
  {
   "cell_type": "code",
   "execution_count": 234,
   "metadata": {},
   "outputs": [
    {
     "data": {
      "text/plain": [
       "<matplotlib.axes._subplots.AxesSubplot at 0x230a5697dc0>"
      ]
     },
     "execution_count": 234,
     "metadata": {},
     "output_type": "execute_result"
    },
    {
     "data": {
      "image/png": "[encoded data removed]",
      "text/plain": [
       "<Figure size 432x288 with 1 Axes>"
      ]
     },
     "metadata": {},
     "output_type": "display_data"
    }
   ],
   "source": [
    "#Bar plot of gender vs. favorite no.\n",
    "sns.barplot(x='gender',y='fav_number',data=df)"
   ]
  },
  {
   "cell_type": "code",
   "execution_count": 235,
   "metadata": {},
   "outputs": [
    {
     "name": "stdout",
     "output_type": "stream",
     "text": [
      "['C0DEED' 'FFFFFF' '000000' 'EEEEEE' '181A1E' 'A8C7F7' '5ED4DC']\n"
     ]
    },
    {
     "data": {
      "text/plain": [
       "<matplotlib.axes._subplots.AxesSubplot at 0x230a5714dc0>"
      ]
     },
     "execution_count": 235,
     "metadata": {},
     "output_type": "execute_result"
    },
    {
     "data": {
      "image/png": "[encoded data removed]",
      "text/plain": [
       "<Figure size 432x288 with 1 Axes>"
      ]
     },
     "metadata": {},
     "output_type": "display_data"
    }
   ],
   "source": [
    "#Top sidebar color plot for males\n",
    "male_top_sidebar_color = df[df['gender'] == 'male']['sidebar_color'].value_counts().head(7)\n",
    "male_top_sidebar_color_idx = male_top_sidebar_color.index\n",
    "male_top_color = male_top_sidebar_color_idx.values\n",
    "\n",
    "male_top_color[2] = '000000'\n",
    "print (male_top_color)\n",
    "l = lambda x: '#'+x\n",
    "\n",
    "sns.set_style(\"darkgrid\", {\"axes.facecolor\": \"#F5ABB5\"})\n",
    "sns.barplot (x = male_top_sidebar_color, y = male_top_color, palette=list(map(l, male_top_color)))"
   ]
  },
  {
   "cell_type": "code",
   "execution_count": 236,
   "metadata": {},
   "outputs": [
    {
     "name": "stdout",
     "output_type": "stream",
     "text": [
      "['C0DEED' 'FFFFFF' '000000' 'EEEEEE' '65B0DA' '5ED4DC' 'CC3366']\n"
     ]
    },
    {
     "data": {
      "text/plain": [
       "<matplotlib.axes._subplots.AxesSubplot at 0x230c418a640>"
      ]
     },
     "execution_count": 236,
     "metadata": {},
     "output_type": "execute_result"
    },
    {
     "data": {
      "image/png": "[encoded data removed]",
      "text/plain": [
       "<Figure size 432x288 with 1 Axes>"
      ]
     },
     "metadata": {},
     "output_type": "display_data"
    }
   ],
   "source": [
    "#Top sidebar color for females\n",
    "female_top_sidebar_color = df[df['gender'] == 'female']['sidebar_color'].value_counts().head(7)\n",
    "female_top_sidebar_color_idx = female_top_sidebar_color.index\n",
    "female_top_color = female_top_sidebar_color_idx.values\n",
    "\n",
    "female_top_color[2] = '000000'\n",
    "print (female_top_color)\n",
    "\n",
    "l = lambda x: '#'+x\n",
    "\n",
    "sns.set_style(\"darkgrid\", {\"axes.facecolor\": \"#F5ABB5\"})\n",
    "sns.barplot (x = female_top_sidebar_color, y = female_top_color, palette=list(map(l, female_top_color)))"
   ]
  },
  {
   "cell_type": "code",
   "execution_count": 237,
   "metadata": {},
   "outputs": [
    {
     "data": {
      "text/plain": [
       "19087    @rvpisarapist my players literally give 110% a...\n",
       "11212    Backers of the atrium lobby considered joining...\n",
       "14799    I was supposed to receive my @SpiritHalloween ...\n",
       "6846     Depression comes when you least expect it, lik...\n",
       "1226     Grimes Throws a Fun, Bloody Party in \"Flesh Wi...\n",
       "Name: text, dtype: object"
      ]
     },
     "execution_count": 237,
     "metadata": {},
     "output_type": "execute_result"
    }
   ],
   "source": [
    "from sklearn.preprocessing import LabelEncoder\n",
    "\n",
    "encoder = LabelEncoder()\n",
    "y = encoder.fit_transform(df['gender'])\n",
    "\n",
    "# split the dataset in train and test\n",
    "X = df['text']\n",
    "X_train, X_test, y_train, y_test = train_test_split(X, y, test_size=0.3, random_state=0, stratify=y)\n",
    "\n",
    "X_train.head()"
   ]
  },
  {
   "cell_type": "code",
   "execution_count": 238,
   "metadata": {},
   "outputs": [
    {
     "name": "stdout",
     "output_type": "stream",
     "text": [
      "Accuracy by Logistic Regression: 0.6001931434089812\n"
     ]
    }
   ],
   "source": [
    "from sklearn.linear_model import LogisticRegression\n",
    "\n",
    "tfidf = TfidfVectorizer(lowercase=False,\n",
    "                        tokenizer=tokenizer_porter,\n",
    "                        preprocessor=preprocessor)\n",
    "clf = Pipeline([('vect', tfidf),\n",
    "                ('clf', LogisticRegression(multi_class='ovr', random_state=0))])\n",
    "\n",
    "clf.fit(X_train, y_train)\n",
    "\n",
    "predictions = clf.predict(X_test)\n",
    "print('Accuracy by Logistic Regression:',accuracy_score(y_test,predictions))"
   ]
  },
  {
   "cell_type": "code",
   "execution_count": 239,
   "metadata": {},
   "outputs": [
    {
     "data": {
      "text/plain": [
       "<matplotlib.collections.PathCollection at 0x230a57473a0>"
      ]
     },
     "execution_count": 239,
     "metadata": {},
     "output_type": "execute_result"
    },
    {
     "data": {
      "image/png": "[encoded data removed]",
      "text/plain": [
       "<Figure size 432x288 with 1 Axes>"
      ]
     },
     "metadata": {},
     "output_type": "display_data"
    }
   ],
   "source": [
    "from sklearn.ensemble import RandomForestClassifier\n",
    "\n",
    "n = range (1,100,10)\n",
    "\n",
    "results = []\n",
    "for i in n:\n",
    "    clf = Pipeline([('vect', tfidf),\n",
    "                ('clf', RandomForestClassifier(n_estimators = i, random_state=0))])\n",
    "    clf.fit(X_train, y_train)\n",
    "    predictions = clf.predict(X_test)\n",
    "    results.append(accuracy_score(y_test, predictions))\n",
    "plt.grid()\n",
    "plt.scatter(n, results)"
   ]
  },
  {
   "cell_type": "code",
   "execution_count": 240,
   "metadata": {},
   "outputs": [
    {
     "name": "stdout",
     "output_type": "stream",
     "text": [
      "Accuracy by Random Forest CLassification: 0.5676001931434089\n"
     ]
    }
   ],
   "source": [
    "tfidf = TfidfVectorizer(lowercase=False,\n",
    "                        tokenizer=tokenizer_porter,\n",
    "                        preprocessor=preprocessor)\n",
    "clf = Pipeline([('vect', tfidf),\n",
    "                ('clf', RandomForestClassifier(n_estimators = 40, random_state=42))])\n",
    "\n",
    "clf.fit(X_train, y_train)\n",
    "\n",
    "predictions = clf.predict(X_test)\n",
    "print('Accuracy by Random Forest CLassification:',accuracy_score(y_test,predictions))"
   ]
  },
  {
   "cell_type": "code",
   "execution_count": 241,
   "metadata": {},
   "outputs": [
    {
     "name": "stdout",
     "output_type": "stream",
     "text": [
      "Accuracy by SVM: 0.5982617093191694\n"
     ]
    }
   ],
   "source": [
    "#SVM model\n",
    "from sklearn.svm import SVC\n",
    "\n",
    "tfidf = TfidfVectorizer(lowercase=False,\n",
    "                        tokenizer=tokenizer_porter,\n",
    "                        preprocessor=preprocessor)\n",
    "clf = Pipeline([('vect', tfidf),\n",
    "                ('clf', SVC(kernel = 'linear'))])\n",
    "clf.fit(X_train, y_train)\n",
    "\n",
    "predictions = clf.predict(X_test)\n",
    "print('Accuracy by SVM:',accuracy_score(y_test,predictions))"
   ]
  },
  {
   "cell_type": "code",
   "execution_count": 242,
   "metadata": {},
   "outputs": [
    {
     "data": {
      "text/plain": [
       "False    13804\n",
       "Name: text_description, dtype: int64"
      ]
     },
     "execution_count": 242,
     "metadata": {},
     "output_type": "execute_result"
    }
   ],
   "source": [
    "#Fill NaN with empty string\n",
    "df.fillna(\"\", inplace = True)\n",
    "\n",
    "# Concatenate text with description, add white space in between \n",
    "# By using Series helper functions Series.str()\n",
    "df['text_description'] = df['text'].str.cat(df['description'], sep=' ')\n",
    "\n",
    "df['text_description'].isnull().value_counts() # Check if any null values, True if there is at least one."
   ]
  },
  {
   "cell_type": "code",
   "execution_count": 243,
   "metadata": {},
   "outputs": [
    {
     "data": {
      "text/plain": [
       "19087    @rvpisarapist my players literally give 110% a...\n",
       "11212    Backers of the atrium lobby considered joining...\n",
       "14799    I was supposed to receive my @SpiritHalloween ...\n",
       "6846     Depression comes when you least expect it, lik...\n",
       "1226     Grimes Throws a Fun, Bloody Party in \"Flesh Wi...\n",
       "Name: text_description, dtype: object"
      ]
     },
     "execution_count": 243,
     "metadata": {},
     "output_type": "execute_result"
    }
   ],
   "source": [
    "#Splitting the dataset in train and test\n",
    "X = df['text_description']\n",
    "X_train, X_test, y_train, y_test = train_test_split(X, y, test_size=0.3, random_state=0, stratify=y)\n",
    "X_train.head()"
   ]
  },
  {
   "cell_type": "code",
   "execution_count": 244,
   "metadata": {},
   "outputs": [
    {
     "name": "stdout",
     "output_type": "stream",
     "text": [
      "Accuracy: 0.6815548044422984\n"
     ]
    }
   ],
   "source": [
    "from sklearn.linear_model import LogisticRegression\n",
    "\n",
    "tfidf = TfidfVectorizer(lowercase=False,\n",
    "                        tokenizer=tokenizer_porter,\n",
    "                        preprocessor=preprocessor)\n",
    "clf = Pipeline([('vect', tfidf),\n",
    "                ('clf', LogisticRegression(multi_class='ovr', random_state=0))])\n",
    "\n",
    "clf.fit(X_train, y_train)\n",
    "\n",
    "predictions = clf.predict(X_test)\n",
    "print('Accuracy:',accuracy_score(y_test,predictions))"
   ]
  },
  {
   "cell_type": "code",
   "execution_count": 245,
   "metadata": {},
   "outputs": [
    {
     "name": "stdout",
     "output_type": "stream",
     "text": [
      "Accuracy by Random Forest Classification: 0.6448575567358764\n"
     ]
    }
   ],
   "source": [
    "from sklearn.ensemble import RandomForestClassifier\n",
    "\n",
    "tfidf = TfidfVectorizer(lowercase=False,\n",
    "                        tokenizer=tokenizer_porter,\n",
    "                        preprocessor=preprocessor)\n",
    "clf = Pipeline([('vect', tfidf),\n",
    "                ('clf', RandomForestClassifier(n_estimators = 80, random_state=0))])\n",
    "\n",
    "clf.fit(X_train, y_train)\n",
    "\n",
    "predictions = clf.predict(X_test)\n",
    "print('Accuracy by Random Forest Classification:',accuracy_score(y_test,predictions))"
   ]
  },
  {
   "cell_type": "code",
   "execution_count": 246,
   "metadata": {},
   "outputs": [
    {
     "name": "stdout",
     "output_type": "stream",
     "text": [
      "Accuracy: 0.6868662481892805\n"
     ]
    }
   ],
   "source": [
    "from sklearn.svm import SVC\n",
    "\n",
    "tfidf = TfidfVectorizer(lowercase=False,\n",
    "                        tokenizer=tokenizer_porter,\n",
    "                        preprocessor=preprocessor)\n",
    "clf = Pipeline([('vect', tfidf),\n",
    "                ('clf', SVC(kernel = 'linear'))])\n",
    "clf.fit(X_train, y_train)\n",
    "\n",
    "predictions = clf.predict(X_test)\n",
    "print('Accuracy:',accuracy_score(y_test,predictions))"
   ]
  },
  {
   "cell_type": "code",
   "execution_count": 247,
   "metadata": {},
   "outputs": [
    {
     "name": "stdout",
     "output_type": "stream",
     "text": [
      "Accuracy after ensemble modelling: 0.6895219700627716\n"
     ]
    }
   ],
   "source": [
    "from sklearn.ensemble import VotingClassifier\n",
    "clf1 = LogisticRegression(multi_class='ovr', random_state=42)\n",
    "clf2 = RandomForestClassifier(n_estimators = 80, random_state=42)\n",
    "clf3 = SVC(kernel = 'linear',probability = True, random_state=42)\n",
    "\n",
    "ensemble_clf = VotingClassifier(estimators=[\n",
    "        ('lr', clf1), ('rf', clf2), ('svm', clf3)], voting='soft')\n",
    "\n",
    "clf = Pipeline([('vect', tfidf),\n",
    "                ('clf', ensemble_clf)])\n",
    "\n",
    "clf.fit(X_train, y_train)\n",
    "predictions = clf.predict(X_test)\n",
    "print('Accuracy after ensemble modelling:',accuracy_score(y_test,predictions))"
   ]
  },
  {
   "cell_type": "code",
   "execution_count": null,
   "metadata": {},
   "outputs": [],
   "source": []
  }
 ],
 "metadata": {
  "kernelspec": {
   "display_name": "Python 3",
   "language": "python",
   "name": "python3"
  },
  "language_info": {
   "codemirror_mode": {
    "name": "ipython",
    "version": 3
   },
   "file_extension": ".py",
   "mimetype": "text/x-python",
   "name": "python",
   "nbconvert_exporter": "python",
   "pygments_lexer": "ipython3",
   "version": "3.8.3"
  }
 },
 "nbformat": 4,
 "nbformat_minor": 4
}
